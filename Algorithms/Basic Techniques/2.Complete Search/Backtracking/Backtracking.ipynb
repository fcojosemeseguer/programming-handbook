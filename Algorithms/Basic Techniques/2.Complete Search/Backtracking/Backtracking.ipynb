{
 "cells": [
  {
   "cell_type": "markdown",
   "id": "c203789f",
   "metadata": {},
   "source": [
    "# Backtracking Algorithm"
   ]
  },
  {
   "cell_type": "markdown",
   "id": "6ba4c894",
   "metadata": {},
   "source": [
    "Backtracking is a problem-solving algorithmic technique that involves finding a solution incrementally by trying different options and undoing them if they lead to a dead end.\n",
    "\n",
    "- Commonly used in situations where you need to explore  multiple possibilities to solve a problem "
   ]
  },
  {
   "cell_type": "markdown",
   "id": "afbd2855",
   "metadata": {},
   "source": [
    "## How a Backtracking Algorithm Works?\n",
    "1. Define the problem and constraints.\n",
    "2. Choose a position/state to work on.\n",
    "3. Try all possible options.\n",
    "4. Check constraints.\n",
    "5. Recur for the next position.\n",
    "6. Backtrack\n",
    "7. Collect or process solutions\n",
    "8. End"
   ]
  },
  {
   "cell_type": "markdown",
   "id": "ec66173e",
   "metadata": {},
   "source": [
    "## Standard Problems\n",
    "- Permutations of a String\n",
    "- The Knight's tour problem\n",
    "- Rat in a Maze\n",
    "- N Queen Problem\n",
    "- Word Addition Cryptographic Puzzle\n",
    "- Subset Sum problem\n",
    "- m Coloring Problem\n",
    "- Hamiltonian Cycle\n",
    "- Sudoku\n",
    "- Magnet Puzzle\n",
    "- Remove Invalid Parentheses"
   ]
  },
  {
   "cell_type": "markdown",
   "id": "1b07b919",
   "metadata": {},
   "source": [
    "# Recursive Backtracking\n",
    "---\n",
    "Time Complexity : $O(n)$ or $O(2^n)$\n",
    "Used it when you need all possible solution or evaluate all posible combinations. If you only one solution *Greedy* or *Dynamic Aproach*"
   ]
  },
  {
   "cell_type": "markdown",
   "id": "de6b1af8",
   "metadata": {},
   "source": [
    "# Template"
   ]
  },
  {
   "cell_type": "markdown",
   "id": "0bc56f89",
   "metadata": {},
   "source": [
    "<pre>\n",
    "def backtrack(params):\n",
    "    if base_case_condition:\n",
    "        results.append(copy_of_solution)\n",
    "        return\n",
    "\n",
    "    for choice in choices:\n",
    "        if violates_constraints:\n",
    "            continue\n",
    "\n",
    "        make_choice\n",
    "        backtrack(update_params)\n",
    "        undo_choice # Backtracking Step\n",
    "\n",
    "</pre>"
   ]
  },
  {
   "cell_type": "markdown",
   "id": "b07e8952",
   "metadata": {},
   "source": [
    "### 78. Subset Problem"
   ]
  },
  {
   "cell_type": "code",
   "execution_count": 6,
   "id": "cce945cf",
   "metadata": {},
   "outputs": [],
   "source": [
    "class Solution78(object):\n",
    "    def subsets(self, nums):\n",
    "        result = []\n",
    "    \n",
    "        def backtrack(index, path):\n",
    "            # Base case\n",
    "            if index == len(nums):\n",
    "                result.append(path[:])\n",
    "                return\n",
    "            \n",
    "            # Decision 1 : include nums[index]\n",
    "            path.append(nums[index])\n",
    "            backtrack(index + 1, path)\n",
    "            path.pop()\n",
    "            \n",
    "            # Decision 2 : skip nums[index]\n",
    "            backtrack(index + 1, path)\n",
    "            \n",
    "        backtrack(0, [])\n",
    "        return result\n",
    "    \n",
    "\n",
    "# 1. Base Case\n",
    "# 2. Choices\n",
    "# 3. Constraints\n",
    "# 4. Backtracking Step"
   ]
  },
  {
   "cell_type": "code",
   "execution_count": 7,
   "id": "09b0b37a",
   "metadata": {},
   "outputs": [
    {
     "name": "stdout",
     "output_type": "stream",
     "text": [
      "[[1, 2, 3], [1, 2], [1, 3], [1], [2, 3], [2], [3], []]\n"
     ]
    }
   ],
   "source": [
    "sol = Solution78().subsets([1, 2, 3])\n",
    "print(sol)"
   ]
  },
  {
   "cell_type": "markdown",
   "id": "6cb8d7c7",
   "metadata": {},
   "source": [
    "### 46. Permutations"
   ]
  },
  {
   "cell_type": "code",
   "execution_count": null,
   "id": "1a2fa7fd",
   "metadata": {},
   "outputs": [],
   "source": [
    "class Solution46(object):\n",
    "    def permute(self, nums):\n",
    "        result = []\n",
    "        \n",
    "        def backtrack(path):\n",
    "            # Base Case\n",
    "            if len(path) == len(nums):\n",
    "                result.append(path[:])\n",
    "                return\n",
    "            \n",
    "            for num in nums:\n",
    "                if num in path:\n",
    "                    continue\n",
    "                path.append(num)\n",
    "                backtrack(path)\n",
    "                path.pop()\n",
    "                \n",
    "        backtrack([])\n",
    "        return result\n",
    "    \n",
    "# Choices : All numbers in nums\n",
    "# Constraint : Can't reuse the same number more than once in our path\n",
    "# Base Case : When the path length equals len(nums)\n",
    "# Backtrack Step : Pop the last number added"
   ]
  },
  {
   "cell_type": "code",
   "execution_count": 10,
   "id": "edac4b1b",
   "metadata": {},
   "outputs": [
    {
     "name": "stdout",
     "output_type": "stream",
     "text": [
      "[[1, 2, 3], [1, 3, 2], [2, 1, 3], [2, 3, 1], [3, 1, 2], [3, 2, 1]]\n"
     ]
    }
   ],
   "source": [
    "sol = Solution46().permute([1, 2, 3])\n",
    "print(sol)"
   ]
  },
  {
   "cell_type": "markdown",
   "id": "b3917b44",
   "metadata": {},
   "source": [
    "### 77. Combinations"
   ]
  },
  {
   "cell_type": "code",
   "execution_count": 18,
   "id": "df0c788b",
   "metadata": {},
   "outputs": [],
   "source": [
    "class Solution77(object):\n",
    "    def combine(self, n, k):\n",
    "        result = []\n",
    "        \n",
    "        def backtrack(start, path):\n",
    "            if len(path) == k:\n",
    "                result.append(path[:])\n",
    "                return\n",
    "            \n",
    "            for num in range(start, n+1):\n",
    "                path.append(num)\n",
    "                backtrack(num + 1, path)\n",
    "                path.pop()\n",
    "                \n",
    "        backtrack(1, [])\n",
    "        return result\n",
    "    \n",
    "# Choices : All numbers from current index to n\n",
    "# Constraint : Path length must be exactly k\n",
    "# Base Case : When the path length equlas len(nums)\n",
    "# Backtrack Step : Pop the last number"
   ]
  },
  {
   "cell_type": "code",
   "execution_count": 17,
   "id": "dac8fea4",
   "metadata": {},
   "outputs": [
    {
     "name": "stdout",
     "output_type": "stream",
     "text": [
      "[[1, 2, 3], [1, 2, 4], [1, 3, 4], [2, 3, 4]]\n"
     ]
    }
   ],
   "source": [
    "sol = Solution77().combine(4, 3)\n",
    "print(sol)"
   ]
  },
  {
   "cell_type": "markdown",
   "id": "4d987340",
   "metadata": {},
   "source": [
    "### 51. NQueens "
   ]
  },
  {
   "cell_type": "code",
   "execution_count": null,
   "id": "95f1303f",
   "metadata": {},
   "outputs": [],
   "source": [
    "class Solution:\n",
    "    def solveNQueens(self, n):\n",
    "        result = []\n",
    "        board = [[\".\"] * n for _ in range(n)]\n",
    "        \n",
    "        # Logic that checks diagonal, rows and cols\n",
    "        def is_valid(row, col):\n",
    "            pass\n",
    "        \n",
    "        def backtrack(row):\n",
    "            if row == n:\n",
    "                result.append([\"\".join(r) for r in board])\n",
    "                return\n",
    "            \n",
    "            for col in range(n):\n",
    "                if not is_valid(row, col):\n",
    "                    continue\n",
    "                board[row][col] = \"Q\"\n",
    "                backtrack(row+1)\n",
    "                board[row][col] = \".\"\n",
    "                \n",
    "        backtrack(0)\n",
    "        return result\n",
    "    \n",
    "# Choices : One queen per column; choose a row for each\n",
    "# Constraint : No two queens can share same row, column or diagonal\n",
    "# Base Case : When you've placed N queens\n",
    "# Backtrack Step : Remove last placed queen"
   ]
  }
 ],
 "metadata": {
  "kernelspec": {
   "display_name": "myenv",
   "language": "python",
   "name": "python3"
  },
  "language_info": {
   "codemirror_mode": {
    "name": "ipython",
    "version": 3
   },
   "file_extension": ".py",
   "mimetype": "text/x-python",
   "name": "python",
   "nbconvert_exporter": "python",
   "pygments_lexer": "ipython3",
   "version": "3.11.1"
  }
 },
 "nbformat": 4,
 "nbformat_minor": 5
}
